{
  "nbformat": 4,
  "nbformat_minor": 0,
  "metadata": {
    "colab": {
      "provenance": []
    },
    "kernelspec": {
      "name": "python3",
      "display_name": "Python 3"
    },
    "language_info": {
      "name": "python"
    }
  },
  "cells": [
    {
      "cell_type": "code",
      "source": [
        "import random\n",
        "import time\n",
        "import matplotlib.pyplot as plt\n",
        "import networkx as nx"
      ],
      "metadata": {
        "id": "TFzLnvpTpqnf"
      },
      "execution_count": null,
      "outputs": []
    },
    {
      "cell_type": "code",
      "source": [
        "IPRange = 50\n",
        "IPSize = 15\n",
        "timeout = 500\n",
        "routeQtd = 8\n",
        "destinationHost = \"192.168.1.100\"\n",
        "sourceHost = \"192.168.1.1\"\n",
        "selectionQtd = 4\n",
        "lastDestinationOc = 100\n",
        "lastSourceOc = 1"
      ],
      "metadata": {
        "id": "tmygTgTops7J"
      },
      "execution_count": null,
      "outputs": []
    },
    {
      "cell_type": "code",
      "source": [
        "class Router:\n",
        "    def __init__(self, ip, lastBinOc, nextTime, fitness):\n",
        "        self.ip = ip\n",
        "        self.nextRtd = None\n",
        "        self.lastBinOc = lastBinOc\n",
        "        self.nextTime = nextTime\n",
        "        self.fitness = fitness\n",
        "        self.jitter = 0"
      ],
      "metadata": {
        "id": "y0L5SHxGpv7a"
      },
      "execution_count": null,
      "outputs": []
    },
    {
      "cell_type": "code",
      "source": [
        "class Route:\n",
        "    def __init__(self):\n",
        "        self.firstRouter = None\n",
        "        self.routeTime = 0\n",
        "        self.fitnessSum = 0.0"
      ],
      "metadata": {
        "id": "R__iNYXrpydl"
      },
      "execution_count": null,
      "outputs": []
    },
    {
      "cell_type": "code",
      "source": [
        "def remove_repeated(way):\n",
        "    for i in range(routeQtd):\n",
        "        iterator = way[i].firstRouter\n",
        "        while iterator.nextRtd is not None:\n",
        "            comparator = iterator.nextRtd\n",
        "            if comparator.ip == iterator.ip:\n",
        "                iterator.nextRtd = comparator.nextRtd\n",
        "                del comparator\n",
        "            else:\n",
        "                iterator = iterator.nextRtd"
      ],
      "metadata": {
        "id": "utomk2lBp1Qs"
      },
      "execution_count": null,
      "outputs": []
    },
    {
      "cell_type": "code",
      "source": [
        "def update_total_latencies(way):\n",
        "    for i in range(routeQtd):\n",
        "        iterator = way[i].firstRouter\n",
        "        way[i].routeTime = 0\n",
        "        last_time = None\n",
        "        while iterator.nextRtd is not None:\n",
        "            if last_time is not None:\n",
        "                iterator.jitter = abs(iterator.nextTime - last_time)\n",
        "            last_time = iterator.nextTime\n",
        "            way[i].routeTime += iterator.nextTime\n",
        "            iterator = iterator.nextRtd"
      ],
      "metadata": {
        "id": "LYyovVh5p4a4"
      },
      "execution_count": null,
      "outputs": []
    },
    {
      "cell_type": "code",
      "source": [
        "def evaluate_fitness(way):\n",
        "    for i in range(routeQtd):\n",
        "        iterator = way[i].firstRouter\n",
        "        way[i].fitnessSum = 0\n",
        "\n",
        "        while iterator.nextRtd is not None:\n",
        "            latency_fitness = 1.0 / iterator.nextTime\n",
        "            jitter_fitness = 1.0 / (iterator.jitter + 0.00001)\n",
        "            iterator.fitness = latency_fitness + jitter_fitness\n",
        "            iterator = iterator.nextRtd\n",
        "\n",
        "        way[i].fitnessSum = 1.0 / (way[i].routeTime + 0.00001)"
      ],
      "metadata": {
        "id": "SMHE8mKmp7S7"
      },
      "execution_count": null,
      "outputs": []
    },
    {
      "cell_type": "code",
      "source": [
        "def dijkstra_shortest_path(graph, source, destination):\n",
        "    shortest_path = nx.dijkstra_path(graph, source=source, target=destination, weight='weight')\n",
        "    return shortest_path"
      ],
      "metadata": {
        "id": "6rQ1qTh4p-O9"
      },
      "execution_count": null,
      "outputs": []
    },
    {
      "cell_type": "code",
      "source": [
        "def build_graph(way):\n",
        "    G = nx.Graph()\n",
        "\n",
        "    for i, route in enumerate(way):\n",
        "        aux = route.firstRouter\n",
        "\n",
        "        while aux is not None:\n",
        "            G.add_node(aux.ip)\n",
        "\n",
        "            if aux.nextRtd is not None:\n",
        "                G.add_edge(aux.ip, aux.nextRtd.ip, weight=aux.nextTime)\n",
        "\n",
        "            aux = aux.nextRtd"
      ],
      "metadata": {
        "id": "AEx6Lpx4qBe6"
      },
      "execution_count": null,
      "outputs": []
    },
    {
      "cell_type": "code",
      "source": [
        "def build_graph(way):\n",
        "    G = nx.Graph()\n",
        "\n",
        "    for i, route in enumerate(way):\n",
        "        aux = route.firstRouter\n",
        "\n",
        "        while aux is not None:\n",
        "            G.add_node(aux.ip)\n",
        "\n",
        "            if aux.nextRtd is not None:\n",
        "                G.add_edge(aux.ip, aux.nextRtd.ip, weight=aux.nextTime)\n",
        "\n",
        "            aux = aux.nextRtd\n",
        "\n",
        "    # Add source and destination nodes\n",
        "    G.add_node(\"192.168.1.1\")\n",
        "    G.add_node(\"192.168.1.100\")\n",
        "\n",
        "    # Connect source and destination nodes to random nodes in the graph\n",
        "    random_node_1 = random.choice(list(G.nodes()))\n",
        "    random_node_2 = random.choice(list(G.nodes()))\n",
        "\n",
        "    G.add_edge(\"192.168.1.1\", random_node_1, weight=0)\n",
        "    G.add_edge(random_node_2, \"192.168.1.100\", weight=0)\n",
        "\n",
        "    return G"
      ],
      "metadata": {
        "id": "3yWirMe0qGrK"
      },
      "execution_count": null,
      "outputs": []
    },
    {
      "cell_type": "code",
      "source": [
        "def plot_routes_with_color(way, colored_ips):\n",
        "    G = build_graph(way)\n",
        "\n",
        "    plt.figure(figsize=(15, 15))\n",
        "\n",
        "    pos = nx.spring_layout(G, scale=0.7)\n",
        "\n",
        "    # Color nodes based on conditions\n",
        "    node_colors = []\n",
        "    for node_ip in G.nodes:\n",
        "        if node_ip in [\"192.168.1.1\", \"192.168.1.100\"]:\n",
        "            node_colors.append(\"lightcoral\")\n",
        "        elif node_ip in colored_ips:\n",
        "            node_colors.append(\"skyblue\")\n",
        "        else:\n",
        "            node_colors.append(\"skyblue\")\n",
        "\n",
        "    nx.draw(G, pos, with_labels=True, node_size=400, node_color=node_colors, font_size=6)\n",
        "    nx.draw_networkx_edge_labels(G, pos, edge_labels={}, font_size=6)\n",
        "\n",
        "    plt.title(\"Dijkstra's Algorithm Network\")\n",
        "    plt.show()"
      ],
      "metadata": {
        "id": "Kt6XgRfLqOjh"
      },
      "execution_count": null,
      "outputs": []
    },
    {
      "cell_type": "code",
      "source": [
        "def initialize_routes():\n",
        "    way = [Route() for _ in range(routeQtd)]\n",
        "\n",
        "    for i in range(routeQtd):\n",
        "        current_router = None\n",
        "        for j in range(random.randint(5, 10)):  # Random number of routers in each route\n",
        "            ip = f\"192.168.1.{random.randint(2, 99)}\"\n",
        "            last_bin_oc = random.randint(1, 100)\n",
        "            next_time = random.uniform(0.1, 10.0)\n",
        "            fitness = 0.0\n",
        "            router = Router(ip, last_bin_oc, next_time, fitness)\n",
        "\n",
        "            if current_router is None:\n",
        "                way[i].firstRouter = router\n",
        "            else:\n",
        "                current_router.nextRtd = router\n",
        "\n",
        "            current_router = router\n",
        "\n",
        "    return way"
      ],
      "metadata": {
        "id": "qrp-ITBUqS7u"
      },
      "execution_count": null,
      "outputs": []
    },
    {
      "cell_type": "code",
      "source": [
        "def main():\n",
        "    way = initialize_routes()\n",
        "\n",
        "    # Build the graph\n",
        "    G = build_graph(way)\n",
        "    source_node = \"192.168.1.1\"\n",
        "    target_node = \"192.168.1.100\"\n",
        "    # Find the shortest path using Dijkstra's algorithm\n",
        "    shortest_path = dijkstra_shortest_path(G, source=sourceHost, destination=destinationHost)\n",
        "\n",
        "    print(f\"Shortest Path from {sourceHost} to {destinationHost}: {shortest_path}\")\n",
        "\n",
        "    colored_ips = set(shortest_path)\n",
        "    plot_routes_with_color(way, colored_ips)\n",
        "\n",
        "if __name__ == \"__main__\":\n",
        "    main()"
      ],
      "metadata": {
        "id": "s51M9GvjqYDL"
      },
      "execution_count": null,
      "outputs": []
    }
  ]
}